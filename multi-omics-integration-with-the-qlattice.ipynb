{
 "cells": [
  {
   "cell_type": "markdown",
   "metadata": {},
   "source": [
    "## Prediction of Breast Cancer Severity with Multi-Omics Data"
   ]
  },
  {
   "cell_type": "markdown",
   "metadata": {},
   "source": [
    "Can the QLattice reveal hidden mechanisms underlying breast cancer severity using multi-omics data (mutations, copy numbes, gene expression and protein levels)? "
   ]
  },
  {
   "cell_type": "markdown",
   "metadata": {},
   "source": [
    "![Breast Cancer Paper](https://els-jbs-prod-cdn.jbs.elsevierhealth.com/cms/attachment/de466e25-32e8-48dd-8f69-cee69e28b345/fx1.jpg)"
   ]
  },
  {
   "cell_type": "markdown",
   "metadata": {},
   "source": [
    "**The Dataset**\n",
    "\n",
    "* 705 breast tumour samples (611 patients survived, 94 patients died)\n"
   ]
  },
  {
   "cell_type": "markdown",
   "metadata": {},
   "source": [
    "\n",
    "Four Data Types (n features):\n",
    "* Copy Number Variations (860)\n",
    "* Somatic Mutations (249)\n",
    "* Gene Expression (604)\n",
    "* Protein Expression (223)\n",
    "\n",
    "**Total: 1936 features**"
   ]
  },
  {
   "cell_type": "markdown",
   "metadata": {},
   "source": [
    "![The Data Types](https://d1g9yur4m4naub.cloudfront.net/image-handler/ts/20210121043242/ri/673/picture/2021/1/shutterstock_695774158.jpg)"
   ]
  },
  {
   "cell_type": "markdown",
   "metadata": {},
   "source": [
    "The dataset is described in detail in the paper: https://www.cell.com/cell/fulltext/S0092-8674(15)01195-2."
   ]
  },
  {
   "cell_type": "markdown",
   "metadata": {},
   "source": [
    "# Python imports\n",
    "In this notebook we will use only three python modules: the `feyn` module to access the QLattice, and the `pandas` module to access the data, and sklearn to split the data in test/train sets"
   ]
  },
  {
   "cell_type": "code",
   "execution_count": 84,
   "metadata": {
    "execution": {
     "iopub.execute_input": "2025-01-26T08:58:04.602138Z",
     "iopub.status.busy": "2025-01-26T08:58:04.601681Z"
    },
    "trusted": true
   },
   "outputs": [
    {
     "name": "stdout",
     "output_type": "stream",
     "text": [
      "Requirement already satisfied: feyn==3.4.0 in c:\\users\\barca\\bio_ai\\venv\\lib\\site-packages (3.4.0)\n",
      "Requirement already satisfied: numpy>=1.26.0 in c:\\users\\barca\\bio_ai\\venv\\lib\\site-packages (from feyn==3.4.0) (2.2.2)\n",
      "Requirement already satisfied: pynacl in c:\\users\\barca\\bio_ai\\venv\\lib\\site-packages (from feyn==3.4.0) (1.5.0)\n",
      "Requirement already satisfied: pandas in c:\\users\\barca\\bio_ai\\venv\\lib\\site-packages (from feyn==3.4.0) (2.2.3)\n",
      "Requirement already satisfied: lark in c:\\users\\barca\\bio_ai\\venv\\lib\\site-packages (from feyn==3.4.0) (1.2.2)\n",
      "Requirement already satisfied: svgwrite in c:\\users\\barca\\bio_ai\\venv\\lib\\site-packages (from feyn==3.4.0) (1.4.3)\n",
      "Requirement already satisfied: matplotlib>=3.7.0 in c:\\users\\barca\\bio_ai\\venv\\lib\\site-packages (from feyn==3.4.0) (3.10.0)\n",
      "Requirement already satisfied: scikit-learn in c:\\users\\barca\\bio_ai\\venv\\lib\\site-packages (from feyn==3.4.0) (1.6.1)\n",
      "Requirement already satisfied: sympy in c:\\users\\barca\\bio_ai\\venv\\lib\\site-packages (from feyn==3.4.0) (1.13.3)\n",
      "Requirement already satisfied: contourpy>=1.0.1 in c:\\users\\barca\\bio_ai\\venv\\lib\\site-packages (from matplotlib>=3.7.0->feyn==3.4.0) (1.3.1)\n",
      "Requirement already satisfied: cycler>=0.10 in c:\\users\\barca\\bio_ai\\venv\\lib\\site-packages (from matplotlib>=3.7.0->feyn==3.4.0) (0.12.1)\n",
      "Requirement already satisfied: fonttools>=4.22.0 in c:\\users\\barca\\bio_ai\\venv\\lib\\site-packages (from matplotlib>=3.7.0->feyn==3.4.0) (4.55.6)\n",
      "Requirement already satisfied: kiwisolver>=1.3.1 in c:\\users\\barca\\bio_ai\\venv\\lib\\site-packages (from matplotlib>=3.7.0->feyn==3.4.0) (1.4.8)\n",
      "Requirement already satisfied: packaging>=20.0 in c:\\users\\barca\\bio_ai\\venv\\lib\\site-packages (from matplotlib>=3.7.0->feyn==3.4.0) (24.2)\n",
      "Requirement already satisfied: pillow>=8 in c:\\users\\barca\\bio_ai\\venv\\lib\\site-packages (from matplotlib>=3.7.0->feyn==3.4.0) (11.1.0)\n",
      "Requirement already satisfied: pyparsing>=2.3.1 in c:\\users\\barca\\bio_ai\\venv\\lib\\site-packages (from matplotlib>=3.7.0->feyn==3.4.0) (3.2.1)\n",
      "Requirement already satisfied: python-dateutil>=2.7 in c:\\users\\barca\\bio_ai\\venv\\lib\\site-packages (from matplotlib>=3.7.0->feyn==3.4.0) (2.9.0.post0)\n",
      "Requirement already satisfied: pytz>=2020.1 in c:\\users\\barca\\bio_ai\\venv\\lib\\site-packages (from pandas->feyn==3.4.0) (2024.2)\n",
      "Requirement already satisfied: tzdata>=2022.7 in c:\\users\\barca\\bio_ai\\venv\\lib\\site-packages (from pandas->feyn==3.4.0) (2025.1)\n",
      "Requirement already satisfied: cffi>=1.4.1 in c:\\users\\barca\\bio_ai\\venv\\lib\\site-packages (from pynacl->feyn==3.4.0) (1.17.1)\n",
      "Requirement already satisfied: scipy>=1.6.0 in c:\\users\\barca\\bio_ai\\venv\\lib\\site-packages (from scikit-learn->feyn==3.4.0) (1.15.1)\n",
      "Requirement already satisfied: joblib>=1.2.0 in c:\\users\\barca\\bio_ai\\venv\\lib\\site-packages (from scikit-learn->feyn==3.4.0) (1.4.2)\n",
      "Requirement already satisfied: threadpoolctl>=3.1.0 in c:\\users\\barca\\bio_ai\\venv\\lib\\site-packages (from scikit-learn->feyn==3.4.0) (3.5.0)\n",
      "Requirement already satisfied: mpmath<1.4,>=1.1.0 in c:\\users\\barca\\bio_ai\\venv\\lib\\site-packages (from sympy->feyn==3.4.0) (1.3.0)\n",
      "Requirement already satisfied: pycparser in c:\\users\\barca\\bio_ai\\venv\\lib\\site-packages (from cffi>=1.4.1->pynacl->feyn==3.4.0) (2.22)\n",
      "Requirement already satisfied: six>=1.5 in c:\\users\\barca\\bio_ai\\venv\\lib\\site-packages (from python-dateutil>=2.7->matplotlib>=3.7.0->feyn==3.4.0) (1.17.0)\n"
     ]
    }
   ],
   "source": [
    "#The feyn Python module is not installed on Kaggle by default so we have to pip install it first. \n",
    "#__Note__: the pip install will fail unless you enable *Internet* in the *settings* to the right --->\n",
    "!pip install feyn==3.4.0"
   ]
  },
  {
   "cell_type": "code",
   "execution_count": 85,
   "metadata": {
    "trusted": true
   },
   "outputs": [],
   "source": [
    "import feyn\n",
    "import pandas as pd\n",
    "import sklearn.model_selection"
   ]
  },
  {
   "cell_type": "markdown",
   "metadata": {},
   "source": [
    "## Load the dataset"
   ]
  },
  {
   "cell_type": "code",
   "execution_count": 86,
   "metadata": {
    "trusted": true
   },
   "outputs": [
    {
     "data": {
      "text/html": [
       "<div>\n",
       "<style scoped>\n",
       "    .dataframe tbody tr th:only-of-type {\n",
       "        vertical-align: middle;\n",
       "    }\n",
       "\n",
       "    .dataframe tbody tr th {\n",
       "        vertical-align: top;\n",
       "    }\n",
       "\n",
       "    .dataframe thead th {\n",
       "        text-align: right;\n",
       "    }\n",
       "</style>\n",
       "<table border=\"1\" class=\"dataframe\">\n",
       "  <thead>\n",
       "    <tr style=\"text-align: right;\">\n",
       "      <th></th>\n",
       "      <th>cn_SNAP25</th>\n",
       "      <th>cn_FLRT3</th>\n",
       "      <th>cn_PCSK2</th>\n",
       "      <th>cn_PTPRT</th>\n",
       "      <th>cn_BCAS1</th>\n",
       "      <th>cn_CYP24A1</th>\n",
       "      <th>cn_BMP7</th>\n",
       "      <th>cn_PCK1</th>\n",
       "      <th>cn_ZBP1</th>\n",
       "      <th>cn_C20orf85</th>\n",
       "      <th>...</th>\n",
       "      <th>mu_CUBN</th>\n",
       "      <th>mu_DMD</th>\n",
       "      <th>mu_DNAH8</th>\n",
       "      <th>mu_GOLGA6L2</th>\n",
       "      <th>mu_HYDIN</th>\n",
       "      <th>mu_MUC12</th>\n",
       "      <th>mu_PLCE1</th>\n",
       "      <th>mu_RYR2</th>\n",
       "      <th>mu_USH2A</th>\n",
       "      <th>mu_AHNAK</th>\n",
       "    </tr>\n",
       "  </thead>\n",
       "  <tbody>\n",
       "    <tr>\n",
       "      <th>0</th>\n",
       "      <td>1</td>\n",
       "      <td>1</td>\n",
       "      <td>1</td>\n",
       "      <td>1</td>\n",
       "      <td>1</td>\n",
       "      <td>1</td>\n",
       "      <td>1</td>\n",
       "      <td>1</td>\n",
       "      <td>1</td>\n",
       "      <td>1</td>\n",
       "      <td>...</td>\n",
       "      <td>0</td>\n",
       "      <td>0</td>\n",
       "      <td>0</td>\n",
       "      <td>0</td>\n",
       "      <td>0</td>\n",
       "      <td>0</td>\n",
       "      <td>0</td>\n",
       "      <td>0</td>\n",
       "      <td>0</td>\n",
       "      <td>0</td>\n",
       "    </tr>\n",
       "    <tr>\n",
       "      <th>1</th>\n",
       "      <td>0</td>\n",
       "      <td>0</td>\n",
       "      <td>0</td>\n",
       "      <td>0</td>\n",
       "      <td>0</td>\n",
       "      <td>0</td>\n",
       "      <td>0</td>\n",
       "      <td>0</td>\n",
       "      <td>0</td>\n",
       "      <td>0</td>\n",
       "      <td>...</td>\n",
       "      <td>1</td>\n",
       "      <td>1</td>\n",
       "      <td>1</td>\n",
       "      <td>1</td>\n",
       "      <td>1</td>\n",
       "      <td>1</td>\n",
       "      <td>1</td>\n",
       "      <td>1</td>\n",
       "      <td>1</td>\n",
       "      <td>0</td>\n",
       "    </tr>\n",
       "    <tr>\n",
       "      <th>2</th>\n",
       "      <td>1</td>\n",
       "      <td>1</td>\n",
       "      <td>1</td>\n",
       "      <td>2</td>\n",
       "      <td>2</td>\n",
       "      <td>2</td>\n",
       "      <td>2</td>\n",
       "      <td>2</td>\n",
       "      <td>2</td>\n",
       "      <td>2</td>\n",
       "      <td>...</td>\n",
       "      <td>0</td>\n",
       "      <td>0</td>\n",
       "      <td>0</td>\n",
       "      <td>0</td>\n",
       "      <td>0</td>\n",
       "      <td>0</td>\n",
       "      <td>0</td>\n",
       "      <td>0</td>\n",
       "      <td>0</td>\n",
       "      <td>0</td>\n",
       "    </tr>\n",
       "    <tr>\n",
       "      <th>3</th>\n",
       "      <td>0</td>\n",
       "      <td>0</td>\n",
       "      <td>0</td>\n",
       "      <td>0</td>\n",
       "      <td>2</td>\n",
       "      <td>2</td>\n",
       "      <td>2</td>\n",
       "      <td>2</td>\n",
       "      <td>2</td>\n",
       "      <td>2</td>\n",
       "      <td>...</td>\n",
       "      <td>0</td>\n",
       "      <td>0</td>\n",
       "      <td>0</td>\n",
       "      <td>0</td>\n",
       "      <td>0</td>\n",
       "      <td>0</td>\n",
       "      <td>1</td>\n",
       "      <td>0</td>\n",
       "      <td>0</td>\n",
       "      <td>0</td>\n",
       "    </tr>\n",
       "    <tr>\n",
       "      <th>4</th>\n",
       "      <td>0</td>\n",
       "      <td>0</td>\n",
       "      <td>0</td>\n",
       "      <td>0</td>\n",
       "      <td>0</td>\n",
       "      <td>0</td>\n",
       "      <td>0</td>\n",
       "      <td>0</td>\n",
       "      <td>0</td>\n",
       "      <td>0</td>\n",
       "      <td>...</td>\n",
       "      <td>0</td>\n",
       "      <td>0</td>\n",
       "      <td>0</td>\n",
       "      <td>0</td>\n",
       "      <td>0</td>\n",
       "      <td>0</td>\n",
       "      <td>0</td>\n",
       "      <td>0</td>\n",
       "      <td>0</td>\n",
       "      <td>0</td>\n",
       "    </tr>\n",
       "    <tr>\n",
       "      <th>...</th>\n",
       "      <td>...</td>\n",
       "      <td>...</td>\n",
       "      <td>...</td>\n",
       "      <td>...</td>\n",
       "      <td>...</td>\n",
       "      <td>...</td>\n",
       "      <td>...</td>\n",
       "      <td>...</td>\n",
       "      <td>...</td>\n",
       "      <td>...</td>\n",
       "      <td>...</td>\n",
       "      <td>...</td>\n",
       "      <td>...</td>\n",
       "      <td>...</td>\n",
       "      <td>...</td>\n",
       "      <td>...</td>\n",
       "      <td>...</td>\n",
       "      <td>...</td>\n",
       "      <td>...</td>\n",
       "      <td>...</td>\n",
       "      <td>...</td>\n",
       "    </tr>\n",
       "    <tr>\n",
       "      <th>700</th>\n",
       "      <td>0</td>\n",
       "      <td>0</td>\n",
       "      <td>0</td>\n",
       "      <td>0</td>\n",
       "      <td>0</td>\n",
       "      <td>0</td>\n",
       "      <td>0</td>\n",
       "      <td>0</td>\n",
       "      <td>0</td>\n",
       "      <td>0</td>\n",
       "      <td>...</td>\n",
       "      <td>0</td>\n",
       "      <td>0</td>\n",
       "      <td>0</td>\n",
       "      <td>0</td>\n",
       "      <td>0</td>\n",
       "      <td>1</td>\n",
       "      <td>0</td>\n",
       "      <td>0</td>\n",
       "      <td>0</td>\n",
       "      <td>0</td>\n",
       "    </tr>\n",
       "    <tr>\n",
       "      <th>701</th>\n",
       "      <td>0</td>\n",
       "      <td>0</td>\n",
       "      <td>0</td>\n",
       "      <td>0</td>\n",
       "      <td>0</td>\n",
       "      <td>0</td>\n",
       "      <td>0</td>\n",
       "      <td>0</td>\n",
       "      <td>0</td>\n",
       "      <td>0</td>\n",
       "      <td>...</td>\n",
       "      <td>0</td>\n",
       "      <td>0</td>\n",
       "      <td>0</td>\n",
       "      <td>0</td>\n",
       "      <td>0</td>\n",
       "      <td>0</td>\n",
       "      <td>0</td>\n",
       "      <td>0</td>\n",
       "      <td>0</td>\n",
       "      <td>0</td>\n",
       "    </tr>\n",
       "    <tr>\n",
       "      <th>702</th>\n",
       "      <td>0</td>\n",
       "      <td>0</td>\n",
       "      <td>0</td>\n",
       "      <td>1</td>\n",
       "      <td>1</td>\n",
       "      <td>1</td>\n",
       "      <td>1</td>\n",
       "      <td>1</td>\n",
       "      <td>1</td>\n",
       "      <td>1</td>\n",
       "      <td>...</td>\n",
       "      <td>0</td>\n",
       "      <td>0</td>\n",
       "      <td>0</td>\n",
       "      <td>0</td>\n",
       "      <td>0</td>\n",
       "      <td>0</td>\n",
       "      <td>0</td>\n",
       "      <td>0</td>\n",
       "      <td>0</td>\n",
       "      <td>0</td>\n",
       "    </tr>\n",
       "    <tr>\n",
       "      <th>703</th>\n",
       "      <td>0</td>\n",
       "      <td>0</td>\n",
       "      <td>0</td>\n",
       "      <td>0</td>\n",
       "      <td>0</td>\n",
       "      <td>0</td>\n",
       "      <td>0</td>\n",
       "      <td>0</td>\n",
       "      <td>0</td>\n",
       "      <td>0</td>\n",
       "      <td>...</td>\n",
       "      <td>0</td>\n",
       "      <td>0</td>\n",
       "      <td>0</td>\n",
       "      <td>0</td>\n",
       "      <td>0</td>\n",
       "      <td>0</td>\n",
       "      <td>0</td>\n",
       "      <td>0</td>\n",
       "      <td>0</td>\n",
       "      <td>0</td>\n",
       "    </tr>\n",
       "    <tr>\n",
       "      <th>704</th>\n",
       "      <td>1</td>\n",
       "      <td>1</td>\n",
       "      <td>1</td>\n",
       "      <td>1</td>\n",
       "      <td>1</td>\n",
       "      <td>1</td>\n",
       "      <td>1</td>\n",
       "      <td>1</td>\n",
       "      <td>1</td>\n",
       "      <td>1</td>\n",
       "      <td>...</td>\n",
       "      <td>0</td>\n",
       "      <td>1</td>\n",
       "      <td>0</td>\n",
       "      <td>0</td>\n",
       "      <td>0</td>\n",
       "      <td>0</td>\n",
       "      <td>0</td>\n",
       "      <td>0</td>\n",
       "      <td>0</td>\n",
       "      <td>0</td>\n",
       "    </tr>\n",
       "  </tbody>\n",
       "</table>\n",
       "<p>705 rows × 100 columns</p>\n",
       "</div>"
      ],
      "text/plain": [
       "     cn_SNAP25  cn_FLRT3  cn_PCSK2  cn_PTPRT  cn_BCAS1  cn_CYP24A1  cn_BMP7  \\\n",
       "0            1         1         1         1         1           1        1   \n",
       "1            0         0         0         0         0           0        0   \n",
       "2            1         1         1         2         2           2        2   \n",
       "3            0         0         0         0         2           2        2   \n",
       "4            0         0         0         0         0           0        0   \n",
       "..         ...       ...       ...       ...       ...         ...      ...   \n",
       "700          0         0         0         0         0           0        0   \n",
       "701          0         0         0         0         0           0        0   \n",
       "702          0         0         0         1         1           1        1   \n",
       "703          0         0         0         0         0           0        0   \n",
       "704          1         1         1         1         1           1        1   \n",
       "\n",
       "     cn_PCK1  cn_ZBP1  cn_C20orf85  ...  mu_CUBN  mu_DMD  mu_DNAH8  \\\n",
       "0          1        1            1  ...        0       0         0   \n",
       "1          0        0            0  ...        1       1         1   \n",
       "2          2        2            2  ...        0       0         0   \n",
       "3          2        2            2  ...        0       0         0   \n",
       "4          0        0            0  ...        0       0         0   \n",
       "..       ...      ...          ...  ...      ...     ...       ...   \n",
       "700        0        0            0  ...        0       0         0   \n",
       "701        0        0            0  ...        0       0         0   \n",
       "702        1        1            1  ...        0       0         0   \n",
       "703        0        0            0  ...        0       0         0   \n",
       "704        1        1            1  ...        0       1         0   \n",
       "\n",
       "     mu_GOLGA6L2  mu_HYDIN  mu_MUC12  mu_PLCE1  mu_RYR2  mu_USH2A  mu_AHNAK  \n",
       "0              0         0         0         0        0         0         0  \n",
       "1              1         1         1         1        1         1         0  \n",
       "2              0         0         0         0        0         0         0  \n",
       "3              0         0         0         1        0         0         0  \n",
       "4              0         0         0         0        0         0         0  \n",
       "..           ...       ...       ...       ...      ...       ...       ...  \n",
       "700            0         0         1         0        0         0         0  \n",
       "701            0         0         0         0        0         0         0  \n",
       "702            0         0         0         0        0         0         0  \n",
       "703            0         0         0         0        0         0         0  \n",
       "704            0         0         0         0        0         0         0  \n",
       "\n",
       "[705 rows x 100 columns]"
      ]
     },
     "execution_count": 86,
     "metadata": {},
     "output_type": "execute_result"
    }
   ],
   "source": [
    "data = r\"C:\\Users\\barca\\Bio_AI\\BRCA_Data_with_Subtypes.csv\"\n",
    "df = pd.read_csv(data)\n",
    "df.iloc[:,1400:1500]"
   ]
  },
  {
   "cell_type": "markdown",
   "metadata": {},
   "source": [
    "# Target balance\n",
    "Let's have a quick look at the balance of target variable"
   ]
  },
  {
   "cell_type": "code",
   "execution_count": 87,
   "metadata": {
    "trusted": true
   },
   "outputs": [
    {
     "data": {
      "text/plain": [
       "vital.status\n",
       "0    611\n",
       "1     94\n",
       "Name: count, dtype: int64"
      ]
     },
     "execution_count": 87,
     "metadata": {},
     "output_type": "execute_result"
    }
   ],
   "source": [
    "df[\"vital.status\"].value_counts()"
   ]
  },
  {
   "cell_type": "markdown",
   "metadata": {},
   "source": [
    "The target variable is pretty unbalanced. Let's make sure we account for that when we split our data into train and test. We want to make sure to have the same ratio of cases/controls in both."
   ]
  },
  {
   "cell_type": "code",
   "execution_count": 88,
   "metadata": {
    "trusted": true
   },
   "outputs": [],
   "source": [
    "train, test = sklearn.model_selection.train_test_split(df,stratify=df[\"vital.status\"], train_size=.66, random_state=42)"
   ]
  },
  {
   "cell_type": "markdown",
   "metadata": {},
   "source": [
    "# Allocate a QLattice\n",
    "The actual QLattice is a quantum simulator that runs on Abzu's hardware, but we can allocate one to use for our analysis with a single line of code. Hopefully the following line will get us one."
   ]
  },
  {
   "cell_type": "code",
   "execution_count": 89,
   "metadata": {
    "trusted": true
   },
   "outputs": [
    {
     "name": "stderr",
     "output_type": "stream",
     "text": [
      "[WARNING: feyn._qlattice] - Deprecation: The connect_qlattice() is deprecated. Use the `feyn.QLattice()` constructor instead.\n"
     ]
    }
   ],
   "source": [
    "ql = feyn.connect_qlattice()"
   ]
  },
  {
   "cell_type": "markdown",
   "metadata": {
    "execution": {
     "iopub.execute_input": "2021-07-01T12:32:57.200568Z",
     "iopub.status.busy": "2021-07-01T12:32:57.200226Z",
     "iopub.status.idle": "2021-07-01T12:32:57.20888Z",
     "shell.execute_reply": "2021-07-01T12:32:57.20756Z",
     "shell.execute_reply.started": "2021-07-01T12:32:57.200541Z"
    }
   },
   "source": [
    "# Search for the best model\n",
    "\n",
    "We are now ready to instruct the QLattice to search for the best mathematical model to explain the data. Here we use the high-level convenience function that does everything with sensible defaults: https://docs.abzu.ai/docs/guides/essentials/auto_run.html.\n",
    "\n",
    "For more detailed control, we could use the primitives: https://docs.abzu.ai/docs/guides/primitives/using_primitives.html"
   ]
  },
  {
   "cell_type": "markdown",
   "metadata": {},
   "source": [
    "### Let's start simple. We constrain the model to have 3 edges (e.g. 2 features and one interaction)\n",
    "Essentially, we're asking the question \"which two features best describe my data and how do they relate to eachother?\"."
   ]
  },
  {
   "cell_type": "code",
   "execution_count": null,
   "metadata": {
    "trusted": true
   },
   "outputs": [
    {
     "ename": "TypeError",
     "evalue": "'<' not supported between instances of 'float' and 'str'",
     "output_type": "error",
     "traceback": [
      "\u001b[1;31m---------------------------------------------------------------------------\u001b[0m",
      "\u001b[1;31mTypeError\u001b[0m                                 Traceback (most recent call last)",
      "Cell \u001b[1;32mIn[91], line 3\u001b[0m\n\u001b[0;32m      1\u001b[0m \u001b[38;5;66;03m#ql.reset(random_seed=42)\u001b[39;00m\n\u001b[0;32m      2\u001b[0m ql \u001b[38;5;241m=\u001b[39m feyn\u001b[38;5;241m.\u001b[39mQLattice()\n\u001b[1;32m----> 3\u001b[0m models \u001b[38;5;241m=\u001b[39m \u001b[43mql\u001b[49m\u001b[38;5;241;43m.\u001b[39;49m\u001b[43mauto_run\u001b[49m\u001b[43m(\u001b[49m\n\u001b[0;32m      4\u001b[0m \u001b[43m    \u001b[49m\u001b[43mtrain\u001b[49m\u001b[43m,\u001b[49m\u001b[43m \u001b[49m\n\u001b[0;32m      5\u001b[0m \u001b[43m    \u001b[49m\u001b[43moutput_name\u001b[49m\u001b[38;5;241;43m=\u001b[39;49m\u001b[38;5;124;43m\"\u001b[39;49m\u001b[38;5;124;43mvital.status\u001b[39;49m\u001b[38;5;124;43m\"\u001b[39;49m\u001b[43m,\u001b[49m\u001b[43m \u001b[49m\n\u001b[0;32m      6\u001b[0m \u001b[43m    \u001b[49m\u001b[43mkind\u001b[49m\u001b[38;5;241;43m=\u001b[39;49m\u001b[38;5;124;43m\"\u001b[39;49m\u001b[38;5;124;43mclassification\u001b[39;49m\u001b[38;5;124;43m\"\u001b[39;49m\u001b[43m,\u001b[49m\u001b[43m \u001b[49m\n\u001b[0;32m      7\u001b[0m \u001b[43m    \u001b[49m\u001b[43mcriterion\u001b[49m\u001b[38;5;241;43m=\u001b[39;49m\u001b[38;5;28;43;01mNone\u001b[39;49;00m\u001b[43m,\u001b[49m\u001b[43m \u001b[49m\n\u001b[0;32m      8\u001b[0m \u001b[43m    \u001b[49m\u001b[43mn_epochs\u001b[49m\u001b[38;5;241;43m=\u001b[39;49m\u001b[38;5;241;43m25\u001b[39;49m\u001b[43m,\u001b[49m\u001b[43m \u001b[49m\n\u001b[0;32m      9\u001b[0m \u001b[43m    \u001b[49m\u001b[43mmax_complexity\u001b[49m\u001b[38;5;241;43m=\u001b[39;49m\u001b[38;5;241;43m3\u001b[39;49m\n\u001b[0;32m     10\u001b[0m \u001b[43m)\u001b[49m\n",
      "File \u001b[1;32mc:\\Users\\barca\\Bio_AI\\venv\\Lib\\site-packages\\feyn\\_typings.py:54\u001b[0m, in \u001b[0;36mcheck_types.<locals>.inner.<locals>.wrapper\u001b[1;34m(*args, **kwargs)\u001b[0m\n\u001b[0;32m     51\u001b[0m     \u001b[38;5;28;01mif\u001b[39;00m verbose:\n\u001b[0;32m     52\u001b[0m         \u001b[38;5;28mprint\u001b[39m(\u001b[38;5;124m\"\u001b[39m\u001b[38;5;124m---\u001b[39m\u001b[38;5;124m\"\u001b[39m)\n\u001b[1;32m---> 54\u001b[0m \u001b[38;5;28;01mreturn\u001b[39;00m \u001b[43mfunc\u001b[49m\u001b[43m(\u001b[49m\u001b[38;5;241;43m*\u001b[39;49m\u001b[43margs\u001b[49m\u001b[43m,\u001b[49m\u001b[43m \u001b[49m\u001b[38;5;241;43m*\u001b[39;49m\u001b[38;5;241;43m*\u001b[39;49m\u001b[43mkwargs\u001b[49m\u001b[43m)\u001b[49m\n",
      "File \u001b[1;32mc:\\Users\\barca\\Bio_AI\\venv\\Lib\\site-packages\\feyn\\_qlattice.py:253\u001b[0m, in \u001b[0;36mQLattice.auto_run\u001b[1;34m(self, data, output_name, kind, stypes, n_epochs, threads, max_complexity, query_string, loss_function, criterion, sample_weights, function_names, starting_models)\u001b[0m\n\u001b[0;32m    250\u001b[0m     models \u001b[38;5;241m=\u001b[39m [m\u001b[38;5;241m.\u001b[39mcopy() \u001b[38;5;28;01mfor\u001b[39;00m m \u001b[38;5;129;01min\u001b[39;00m starting_models]\n\u001b[0;32m    251\u001b[0m m_count \u001b[38;5;241m=\u001b[39m \u001b[38;5;28mlen\u001b[39m(models)\n\u001b[1;32m--> 253\u001b[0m priors \u001b[38;5;241m=\u001b[39m \u001b[43mfeyn\u001b[49m\u001b[38;5;241;43m.\u001b[39;49m\u001b[43mtools\u001b[49m\u001b[38;5;241;43m.\u001b[39;49m\u001b[43mestimate_priors\u001b[49m\u001b[43m(\u001b[49m\u001b[43mdata\u001b[49m\u001b[43m,\u001b[49m\u001b[43m \u001b[49m\u001b[43moutput_name\u001b[49m\u001b[43m)\u001b[49m\n\u001b[0;32m    254\u001b[0m \u001b[38;5;28mself\u001b[39m\u001b[38;5;241m.\u001b[39mupdate_priors(priors)\n\u001b[0;32m    256\u001b[0m \u001b[38;5;28;01mtry\u001b[39;00m:\n",
      "File \u001b[1;32mc:\\Users\\barca\\Bio_AI\\venv\\Lib\\site-packages\\feyn\\tools\\_data\\_data.py:264\u001b[0m, in \u001b[0;36mestimate_priors\u001b[1;34m(df, output_name, floor)\u001b[0m\n\u001b[0;32m    247\u001b[0m \u001b[38;5;250m\u001b[39m\u001b[38;5;124;03m\"\"\"Computes prior probabilities for each input based on mutual information.\u001b[39;00m\n\u001b[0;32m    248\u001b[0m \u001b[38;5;124;03mThe prior probability of an input denotes the initial belief of its importance in predicting the output before fitting a model.\u001b[39;00m\n\u001b[0;32m    249\u001b[0m \u001b[38;5;124;03mThe higher the prior probability the more important the corresponding feature is believed to be.\u001b[39;00m\n\u001b[1;32m   (...)\u001b[0m\n\u001b[0;32m    259\u001b[0m \u001b[38;5;124;03m    dict -- a dictionary of feature names and their computed priors.\u001b[39;00m\n\u001b[0;32m    260\u001b[0m \u001b[38;5;124;03m\"\"\"\u001b[39;00m\n\u001b[0;32m    262\u001b[0m inputs \u001b[38;5;241m=\u001b[39m df\u001b[38;5;241m.\u001b[39mcolumns[df\u001b[38;5;241m.\u001b[39mcolumns \u001b[38;5;241m!=\u001b[39m output_name]\u001b[38;5;241m.\u001b[39mvalues\n\u001b[1;32m--> 264\u001b[0m res \u001b[38;5;241m=\u001b[39m \u001b[43mfeyn\u001b[49m\u001b[38;5;241;43m.\u001b[39;49m\u001b[43mmetrics\u001b[49m\u001b[38;5;241;43m.\u001b[39;49m\u001b[43mcalculate_mi_for_output\u001b[49m\u001b[43m(\u001b[49m\u001b[43mdf\u001b[49m\u001b[43m,\u001b[49m\u001b[43m \u001b[49m\u001b[43moutput_name\u001b[49m\u001b[43m)\u001b[49m\n\u001b[0;32m    265\u001b[0m res \u001b[38;5;241m=\u001b[39m np\u001b[38;5;241m.\u001b[39marray(res)\n\u001b[0;32m    267\u001b[0m sorted_index \u001b[38;5;241m=\u001b[39m (\u001b[38;5;241m-\u001b[39mres)\u001b[38;5;241m.\u001b[39margsort()  \u001b[38;5;66;03m# note: (-res).argsort() is just reverse argsort\u001b[39;00m\n",
      "File \u001b[1;32mc:\\Users\\barca\\Bio_AI\\venv\\Lib\\site-packages\\feyn\\metrics\\_mutual.py:88\u001b[0m, in \u001b[0;36mcalculate_mi_for_output\u001b[1;34m(df, output_name)\u001b[0m\n\u001b[0;32m     84\u001b[0m output_mi, output_bins \u001b[38;5;241m=\u001b[39m _mi_inputs(df[output_name])\n\u001b[0;32m     86\u001b[0m inputs \u001b[38;5;241m=\u001b[39m df\u001b[38;5;241m.\u001b[39mcolumns[df\u001b[38;5;241m.\u001b[39mcolumns \u001b[38;5;241m!=\u001b[39m output_name]\u001b[38;5;241m.\u001b[39mvalues\n\u001b[1;32m---> 88\u001b[0m \u001b[38;5;28;01mreturn\u001b[39;00m \u001b[43mdf\u001b[49m\u001b[43m[\u001b[49m\u001b[43minputs\u001b[49m\u001b[43m]\u001b[49m\u001b[38;5;241;43m.\u001b[39;49m\u001b[43mapply\u001b[49m\u001b[43m(\u001b[49m\n\u001b[0;32m     89\u001b[0m \u001b[43m    \u001b[49m\u001b[38;5;28;43;01mlambda\u001b[39;49;00m\u001b[43m \u001b[49m\u001b[43mcol\u001b[49m\u001b[43m:\u001b[49m\u001b[43m \u001b[49m\u001b[43m_calculate_mi_for_output\u001b[49m\u001b[43m(\u001b[49m\u001b[43mcol\u001b[49m\u001b[43m,\u001b[49m\u001b[43m \u001b[49m\u001b[43moutput_mi\u001b[49m\u001b[43m,\u001b[49m\u001b[43m \u001b[49m\u001b[43moutput_bins\u001b[49m\u001b[43m)\u001b[49m\u001b[43m,\u001b[49m\u001b[43m \u001b[49m\u001b[43maxis\u001b[49m\u001b[38;5;241;43m=\u001b[39;49m\u001b[38;5;241;43m0\u001b[39;49m\n\u001b[0;32m     90\u001b[0m \u001b[43m\u001b[49m\u001b[43m)\u001b[49m\n",
      "File \u001b[1;32mc:\\Users\\barca\\Bio_AI\\venv\\Lib\\site-packages\\pandas\\core\\frame.py:10374\u001b[0m, in \u001b[0;36mDataFrame.apply\u001b[1;34m(self, func, axis, raw, result_type, args, by_row, engine, engine_kwargs, **kwargs)\u001b[0m\n\u001b[0;32m  10360\u001b[0m \u001b[38;5;28;01mfrom\u001b[39;00m\u001b[38;5;250m \u001b[39m\u001b[38;5;21;01mpandas\u001b[39;00m\u001b[38;5;21;01m.\u001b[39;00m\u001b[38;5;21;01mcore\u001b[39;00m\u001b[38;5;21;01m.\u001b[39;00m\u001b[38;5;21;01mapply\u001b[39;00m\u001b[38;5;250m \u001b[39m\u001b[38;5;28;01mimport\u001b[39;00m frame_apply\n\u001b[0;32m  10362\u001b[0m op \u001b[38;5;241m=\u001b[39m frame_apply(\n\u001b[0;32m  10363\u001b[0m     \u001b[38;5;28mself\u001b[39m,\n\u001b[0;32m  10364\u001b[0m     func\u001b[38;5;241m=\u001b[39mfunc,\n\u001b[1;32m   (...)\u001b[0m\n\u001b[0;32m  10372\u001b[0m     kwargs\u001b[38;5;241m=\u001b[39mkwargs,\n\u001b[0;32m  10373\u001b[0m )\n\u001b[1;32m> 10374\u001b[0m \u001b[38;5;28;01mreturn\u001b[39;00m \u001b[43mop\u001b[49m\u001b[38;5;241;43m.\u001b[39;49m\u001b[43mapply\u001b[49m\u001b[43m(\u001b[49m\u001b[43m)\u001b[49m\u001b[38;5;241m.\u001b[39m__finalize__(\u001b[38;5;28mself\u001b[39m, method\u001b[38;5;241m=\u001b[39m\u001b[38;5;124m\"\u001b[39m\u001b[38;5;124mapply\u001b[39m\u001b[38;5;124m\"\u001b[39m)\n",
      "File \u001b[1;32mc:\\Users\\barca\\Bio_AI\\venv\\Lib\\site-packages\\pandas\\core\\apply.py:916\u001b[0m, in \u001b[0;36mFrameApply.apply\u001b[1;34m(self)\u001b[0m\n\u001b[0;32m    913\u001b[0m \u001b[38;5;28;01melif\u001b[39;00m \u001b[38;5;28mself\u001b[39m\u001b[38;5;241m.\u001b[39mraw:\n\u001b[0;32m    914\u001b[0m     \u001b[38;5;28;01mreturn\u001b[39;00m \u001b[38;5;28mself\u001b[39m\u001b[38;5;241m.\u001b[39mapply_raw(engine\u001b[38;5;241m=\u001b[39m\u001b[38;5;28mself\u001b[39m\u001b[38;5;241m.\u001b[39mengine, engine_kwargs\u001b[38;5;241m=\u001b[39m\u001b[38;5;28mself\u001b[39m\u001b[38;5;241m.\u001b[39mengine_kwargs)\n\u001b[1;32m--> 916\u001b[0m \u001b[38;5;28;01mreturn\u001b[39;00m \u001b[38;5;28;43mself\u001b[39;49m\u001b[38;5;241;43m.\u001b[39;49m\u001b[43mapply_standard\u001b[49m\u001b[43m(\u001b[49m\u001b[43m)\u001b[49m\n",
      "File \u001b[1;32mc:\\Users\\barca\\Bio_AI\\venv\\Lib\\site-packages\\pandas\\core\\apply.py:1063\u001b[0m, in \u001b[0;36mFrameApply.apply_standard\u001b[1;34m(self)\u001b[0m\n\u001b[0;32m   1061\u001b[0m \u001b[38;5;28;01mdef\u001b[39;00m\u001b[38;5;250m \u001b[39m\u001b[38;5;21mapply_standard\u001b[39m(\u001b[38;5;28mself\u001b[39m):\n\u001b[0;32m   1062\u001b[0m     \u001b[38;5;28;01mif\u001b[39;00m \u001b[38;5;28mself\u001b[39m\u001b[38;5;241m.\u001b[39mengine \u001b[38;5;241m==\u001b[39m \u001b[38;5;124m\"\u001b[39m\u001b[38;5;124mpython\u001b[39m\u001b[38;5;124m\"\u001b[39m:\n\u001b[1;32m-> 1063\u001b[0m         results, res_index \u001b[38;5;241m=\u001b[39m \u001b[38;5;28;43mself\u001b[39;49m\u001b[38;5;241;43m.\u001b[39;49m\u001b[43mapply_series_generator\u001b[49m\u001b[43m(\u001b[49m\u001b[43m)\u001b[49m\n\u001b[0;32m   1064\u001b[0m     \u001b[38;5;28;01melse\u001b[39;00m:\n\u001b[0;32m   1065\u001b[0m         results, res_index \u001b[38;5;241m=\u001b[39m \u001b[38;5;28mself\u001b[39m\u001b[38;5;241m.\u001b[39mapply_series_numba()\n",
      "File \u001b[1;32mc:\\Users\\barca\\Bio_AI\\venv\\Lib\\site-packages\\pandas\\core\\apply.py:1081\u001b[0m, in \u001b[0;36mFrameApply.apply_series_generator\u001b[1;34m(self)\u001b[0m\n\u001b[0;32m   1078\u001b[0m \u001b[38;5;28;01mwith\u001b[39;00m option_context(\u001b[38;5;124m\"\u001b[39m\u001b[38;5;124mmode.chained_assignment\u001b[39m\u001b[38;5;124m\"\u001b[39m, \u001b[38;5;28;01mNone\u001b[39;00m):\n\u001b[0;32m   1079\u001b[0m     \u001b[38;5;28;01mfor\u001b[39;00m i, v \u001b[38;5;129;01min\u001b[39;00m \u001b[38;5;28menumerate\u001b[39m(series_gen):\n\u001b[0;32m   1080\u001b[0m         \u001b[38;5;66;03m# ignore SettingWithCopy here in case the user mutates\u001b[39;00m\n\u001b[1;32m-> 1081\u001b[0m         results[i] \u001b[38;5;241m=\u001b[39m \u001b[38;5;28;43mself\u001b[39;49m\u001b[38;5;241;43m.\u001b[39;49m\u001b[43mfunc\u001b[49m\u001b[43m(\u001b[49m\u001b[43mv\u001b[49m\u001b[43m,\u001b[49m\u001b[43m \u001b[49m\u001b[38;5;241;43m*\u001b[39;49m\u001b[38;5;28;43mself\u001b[39;49m\u001b[38;5;241;43m.\u001b[39;49m\u001b[43margs\u001b[49m\u001b[43m,\u001b[49m\u001b[43m \u001b[49m\u001b[38;5;241;43m*\u001b[39;49m\u001b[38;5;241;43m*\u001b[39;49m\u001b[38;5;28;43mself\u001b[39;49m\u001b[38;5;241;43m.\u001b[39;49m\u001b[43mkwargs\u001b[49m\u001b[43m)\u001b[49m\n\u001b[0;32m   1082\u001b[0m         \u001b[38;5;28;01mif\u001b[39;00m \u001b[38;5;28misinstance\u001b[39m(results[i], ABCSeries):\n\u001b[0;32m   1083\u001b[0m             \u001b[38;5;66;03m# If we have a view on v, we need to make a copy because\u001b[39;00m\n\u001b[0;32m   1084\u001b[0m             \u001b[38;5;66;03m#  series_generator will swap out the underlying data\u001b[39;00m\n\u001b[0;32m   1085\u001b[0m             results[i] \u001b[38;5;241m=\u001b[39m results[i]\u001b[38;5;241m.\u001b[39mcopy(deep\u001b[38;5;241m=\u001b[39m\u001b[38;5;28;01mFalse\u001b[39;00m)\n",
      "File \u001b[1;32mc:\\Users\\barca\\Bio_AI\\venv\\Lib\\site-packages\\feyn\\metrics\\_mutual.py:89\u001b[0m, in \u001b[0;36mcalculate_mi_for_output.<locals>.<lambda>\u001b[1;34m(col)\u001b[0m\n\u001b[0;32m     84\u001b[0m output_mi, output_bins \u001b[38;5;241m=\u001b[39m _mi_inputs(df[output_name])\n\u001b[0;32m     86\u001b[0m inputs \u001b[38;5;241m=\u001b[39m df\u001b[38;5;241m.\u001b[39mcolumns[df\u001b[38;5;241m.\u001b[39mcolumns \u001b[38;5;241m!=\u001b[39m output_name]\u001b[38;5;241m.\u001b[39mvalues\n\u001b[0;32m     88\u001b[0m \u001b[38;5;28;01mreturn\u001b[39;00m df[inputs]\u001b[38;5;241m.\u001b[39mapply(\n\u001b[1;32m---> 89\u001b[0m     \u001b[38;5;28;01mlambda\u001b[39;00m col: \u001b[43m_calculate_mi_for_output\u001b[49m\u001b[43m(\u001b[49m\u001b[43mcol\u001b[49m\u001b[43m,\u001b[49m\u001b[43m \u001b[49m\u001b[43moutput_mi\u001b[49m\u001b[43m,\u001b[49m\u001b[43m \u001b[49m\u001b[43moutput_bins\u001b[49m\u001b[43m)\u001b[49m, axis\u001b[38;5;241m=\u001b[39m\u001b[38;5;241m0\u001b[39m\n\u001b[0;32m     90\u001b[0m )\n",
      "File \u001b[1;32mc:\\Users\\barca\\Bio_AI\\venv\\Lib\\site-packages\\feyn\\metrics\\_mutual.py:58\u001b[0m, in \u001b[0;36m_calculate_mi_for_output\u001b[1;34m(samples, output_mi, output_bins)\u001b[0m\n\u001b[0;32m     55\u001b[0m \u001b[38;5;28;01mdef\u001b[39;00m\u001b[38;5;250m \u001b[39m\u001b[38;5;21m_calculate_mi_for_output\u001b[39m(\n\u001b[0;32m     56\u001b[0m     samples: Iterable, output_mi: Iterable, output_bins: Iterable\n\u001b[0;32m     57\u001b[0m ) \u001b[38;5;241m-\u001b[39m\u001b[38;5;241m>\u001b[39m np\u001b[38;5;241m.\u001b[39marray:\n\u001b[1;32m---> 58\u001b[0m     sample_rv, sample_bins \u001b[38;5;241m=\u001b[39m \u001b[43m_mi_inputs\u001b[49m\u001b[43m(\u001b[49m\u001b[43msamples\u001b[49m\u001b[43m)\u001b[49m\n\u001b[0;32m     60\u001b[0m     joint_dist \u001b[38;5;241m=\u001b[39m _normalize_hist(\n\u001b[0;32m     61\u001b[0m         np\u001b[38;5;241m.\u001b[39mhistogramdd([sample_rv, output_mi], bins\u001b[38;5;241m=\u001b[39m[sample_bins, output_bins])[\u001b[38;5;241m0\u001b[39m]\n\u001b[0;32m     62\u001b[0m     )\n\u001b[0;32m     64\u001b[0m     marginals \u001b[38;5;241m=\u001b[39m [_integrate_to(joint_dist, i) \u001b[38;5;28;01mfor\u001b[39;00m i \u001b[38;5;129;01min\u001b[39;00m \u001b[38;5;28mrange\u001b[39m(joint_dist\u001b[38;5;241m.\u001b[39mndim)]\n",
      "File \u001b[1;32mc:\\Users\\barca\\Bio_AI\\venv\\Lib\\site-packages\\feyn\\metrics\\_mutual.py:105\u001b[0m, in \u001b[0;36m_mi_inputs\u001b[1;34m(samples, float_bins)\u001b[0m\n\u001b[0;32m    103\u001b[0m     \u001b[38;5;28;01mreturn\u001b[39;00m samples, \u001b[38;5;28mlen\u001b[39m(np\u001b[38;5;241m.\u001b[39munique(samples)) \u001b[38;5;241m+\u001b[39m \u001b[38;5;241m1\u001b[39m\n\u001b[0;32m    104\u001b[0m \u001b[38;5;28;01melse\u001b[39;00m:\n\u001b[1;32m--> 105\u001b[0m     \u001b[38;5;28;01mreturn\u001b[39;00m \u001b[43m_encode\u001b[49m\u001b[43m(\u001b[49m\u001b[43msamples\u001b[49m\u001b[43m)\u001b[49m\n",
      "File \u001b[1;32mc:\\Users\\barca\\Bio_AI\\venv\\Lib\\site-packages\\feyn\\metrics\\_mutual.py:143\u001b[0m, in \u001b[0;36m_encode\u001b[1;34m(discrete_rv)\u001b[0m\n\u001b[0;32m    139\u001b[0m \u001b[38;5;28;01mdef\u001b[39;00m\u001b[38;5;250m \u001b[39m\u001b[38;5;21m_encode\u001b[39m(discrete_rv):\n\u001b[0;32m    140\u001b[0m \u001b[38;5;250m    \u001b[39m\u001b[38;5;124;03m\"\"\"\u001b[39;00m\n\u001b[0;32m    141\u001b[0m \u001b[38;5;124;03m    Encode a 1D discrete random variable that does not contain integers to one that does.\u001b[39;00m\n\u001b[0;32m    142\u001b[0m \u001b[38;5;124;03m    \"\"\"\u001b[39;00m\n\u001b[1;32m--> 143\u001b[0m     uniq, codes \u001b[38;5;241m=\u001b[39m \u001b[43mnp\u001b[49m\u001b[38;5;241;43m.\u001b[39;49m\u001b[43munique\u001b[49m\u001b[43m(\u001b[49m\u001b[43mdiscrete_rv\u001b[49m\u001b[43m,\u001b[49m\u001b[43m \u001b[49m\u001b[43mreturn_inverse\u001b[49m\u001b[38;5;241;43m=\u001b[39;49m\u001b[38;5;28;43;01mTrue\u001b[39;49;00m\u001b[43m)\u001b[49m\n\u001b[0;32m    144\u001b[0m     \u001b[38;5;28;01mreturn\u001b[39;00m codes, \u001b[38;5;28mlen\u001b[39m(uniq)\n",
      "File \u001b[1;32mc:\\Users\\barca\\Bio_AI\\venv\\Lib\\site-packages\\numpy\\lib\\_arraysetops_impl.py:286\u001b[0m, in \u001b[0;36munique\u001b[1;34m(ar, return_index, return_inverse, return_counts, axis, equal_nan)\u001b[0m\n\u001b[0;32m    284\u001b[0m ar \u001b[38;5;241m=\u001b[39m np\u001b[38;5;241m.\u001b[39masanyarray(ar)\n\u001b[0;32m    285\u001b[0m \u001b[38;5;28;01mif\u001b[39;00m axis \u001b[38;5;129;01mis\u001b[39;00m \u001b[38;5;28;01mNone\u001b[39;00m:\n\u001b[1;32m--> 286\u001b[0m     ret \u001b[38;5;241m=\u001b[39m \u001b[43m_unique1d\u001b[49m\u001b[43m(\u001b[49m\u001b[43mar\u001b[49m\u001b[43m,\u001b[49m\u001b[43m \u001b[49m\u001b[43mreturn_index\u001b[49m\u001b[43m,\u001b[49m\u001b[43m \u001b[49m\u001b[43mreturn_inverse\u001b[49m\u001b[43m,\u001b[49m\u001b[43m \u001b[49m\u001b[43mreturn_counts\u001b[49m\u001b[43m,\u001b[49m\n\u001b[0;32m    287\u001b[0m \u001b[43m                    \u001b[49m\u001b[43mequal_nan\u001b[49m\u001b[38;5;241;43m=\u001b[39;49m\u001b[43mequal_nan\u001b[49m\u001b[43m,\u001b[49m\u001b[43m \u001b[49m\u001b[43minverse_shape\u001b[49m\u001b[38;5;241;43m=\u001b[39;49m\u001b[43mar\u001b[49m\u001b[38;5;241;43m.\u001b[39;49m\u001b[43mshape\u001b[49m\u001b[43m,\u001b[49m\u001b[43m \u001b[49m\u001b[43maxis\u001b[49m\u001b[38;5;241;43m=\u001b[39;49m\u001b[38;5;28;43;01mNone\u001b[39;49;00m\u001b[43m)\u001b[49m\n\u001b[0;32m    288\u001b[0m     \u001b[38;5;28;01mreturn\u001b[39;00m _unpack_tuple(ret)\n\u001b[0;32m    290\u001b[0m \u001b[38;5;66;03m# axis was specified and not None\u001b[39;00m\n",
      "File \u001b[1;32mc:\\Users\\barca\\Bio_AI\\venv\\Lib\\site-packages\\numpy\\lib\\_arraysetops_impl.py:350\u001b[0m, in \u001b[0;36m_unique1d\u001b[1;34m(ar, return_index, return_inverse, return_counts, equal_nan, inverse_shape, axis)\u001b[0m\n\u001b[0;32m    347\u001b[0m optional_indices \u001b[38;5;241m=\u001b[39m return_index \u001b[38;5;129;01mor\u001b[39;00m return_inverse\n\u001b[0;32m    349\u001b[0m \u001b[38;5;28;01mif\u001b[39;00m optional_indices:\n\u001b[1;32m--> 350\u001b[0m     perm \u001b[38;5;241m=\u001b[39m \u001b[43mar\u001b[49m\u001b[38;5;241;43m.\u001b[39;49m\u001b[43margsort\u001b[49m\u001b[43m(\u001b[49m\u001b[43mkind\u001b[49m\u001b[38;5;241;43m=\u001b[39;49m\u001b[38;5;124;43m'\u001b[39;49m\u001b[38;5;124;43mmergesort\u001b[39;49m\u001b[38;5;124;43m'\u001b[39;49m\u001b[43m \u001b[49m\u001b[38;5;28;43;01mif\u001b[39;49;00m\u001b[43m \u001b[49m\u001b[43mreturn_index\u001b[49m\u001b[43m \u001b[49m\u001b[38;5;28;43;01melse\u001b[39;49;00m\u001b[43m \u001b[49m\u001b[38;5;124;43m'\u001b[39;49m\u001b[38;5;124;43mquicksort\u001b[39;49m\u001b[38;5;124;43m'\u001b[39;49m\u001b[43m)\u001b[49m\n\u001b[0;32m    351\u001b[0m     aux \u001b[38;5;241m=\u001b[39m ar[perm]\n\u001b[0;32m    352\u001b[0m \u001b[38;5;28;01melse\u001b[39;00m:\n",
      "\u001b[1;31mTypeError\u001b[0m: '<' not supported between instances of 'float' and 'str'"
     ]
    }
   ],
   "source": [
    "ql.reset(random_seed=42)\n",
    "models = ql.auto_run(\n",
    "    train, \n",
    "    output_name=\"vital.status\", \n",
    "    kind=\"classification\", \n",
    "    criterion=None, \n",
    "    n_epochs=25, \n",
    "    max_complexity=3\n",
    ")\n"
   ]
  },
  {
   "cell_type": "code",
   "execution_count": null,
   "metadata": {
    "trusted": true
   },
   "outputs": [],
   "source": [
    "models[0].plot(train, test)"
   ]
  },
  {
   "cell_type": "markdown",
   "metadata": {},
   "source": [
    "This is already a pretty good model given that a random forest only scores around AUC=0.66 (using hundreds of features and not being interpretable)."
   ]
  },
  {
   "cell_type": "markdown",
   "metadata": {},
   "source": [
    "### Let's see what's going on in the model - Partial Plots"
   ]
  },
  {
   "cell_type": "code",
   "execution_count": null,
   "metadata": {
    "trusted": true
   },
   "outputs": [],
   "source": [
    "# Training Data\n",
    "models[1].plot_response_2d(train)"
   ]
  },
  {
   "cell_type": "code",
   "execution_count": null,
   "metadata": {
    "trusted": true
   },
   "outputs": [],
   "source": [
    "#Test Data\n",
    "models[1].plot_response_2d(test)"
   ]
  },
  {
   "cell_type": "markdown",
   "metadata": {},
   "source": [
    "Nice, the model generalises well on unseen data!"
   ]
  },
  {
   "cell_type": "markdown",
   "metadata": {
    "execution": {
     "iopub.execute_input": "2021-07-09T11:46:22.79606Z",
     "iopub.status.busy": "2021-07-09T11:46:22.795628Z",
     "iopub.status.idle": "2021-07-09T11:46:22.800933Z",
     "shell.execute_reply": "2021-07-09T11:46:22.799323Z",
     "shell.execute_reply.started": "2021-07-09T11:46:22.79601Z"
    }
   },
   "source": [
    "### Looking at the ROC curve"
   ]
  },
  {
   "cell_type": "code",
   "execution_count": null,
   "metadata": {
    "trusted": true
   },
   "outputs": [],
   "source": [
    "models[1].plot_roc_curve(test)"
   ]
  },
  {
   "cell_type": "markdown",
   "metadata": {},
   "source": [
    "### Let's look at some other machine-learning methods"
   ]
  },
  {
   "cell_type": "code",
   "execution_count": null,
   "metadata": {
    "trusted": true
   },
   "outputs": [],
   "source": [
    "rf = feyn.reference.RandomForestClassifier(train, output_name=\"vital.status\", random_state = 42)\n",
    "gb = feyn.reference.GradientBoostingClassifier(train, output_name=\"vital.status\", random_state = 42)\n",
    "lr = feyn.reference.LogisticRegressionClassifier(train, output_name=\"vital.status\", max_iter=10000, random_state = 42)\n",
    "\n",
    "rf.plot_roc_curve(test, label=\"Random Forest\")\n",
    "gb.plot_roc_curve(test, label=\"Gradient Boosting\")\n",
    "lr.plot_roc_curve(test, label=\"Logistic Regression\")"
   ]
  },
  {
   "cell_type": "markdown",
   "metadata": {},
   "source": [
    "## The Multi-Omics Capabilities of the QLattice"
   ]
  },
  {
   "cell_type": "markdown",
   "metadata": {},
   "source": [
    "### What happens when I let the QLattice explore for a while?\n",
    "In this example I'm loading in a model that was trained for 200 iterations (using criterion = \"bic\" and max_complexity = 7). This took around 30 minutes on my machine (M1 Macbook Air 2021)."
   ]
  },
  {
   "cell_type": "code",
   "execution_count": null,
   "metadata": {
    "trusted": true
   },
   "outputs": [],
   "source": [
    "def feature_correlations_map(train, target, correlation='pearson', scale_features=True, abs_values = False):\n",
    "\n",
    "    from sklearn.decomposition import PCA\n",
    "    import plotly.express as px\n",
    "    \n",
    "    target_abs = f\"{target}_abs\"\n",
    "\n",
    "    data_corr = train.corr(correlation).drop(target, axis = 0)\n",
    "\n",
    "    target_corr = data_corr[target].values.copy()\n",
    "    data_corr = data_corr.drop(target, axis = 1)\n",
    "\n",
    "    features = data_corr.columns\n",
    "\n",
    "    if scale_features:\n",
    "        from sklearn.preprocessing import StandardScaler\n",
    "        x = data_corr.loc[:, features].values\n",
    "        data_corr = StandardScaler().fit_transform(x)\n",
    "\n",
    "    \n",
    "    pca = PCA(n_components=2)\n",
    "    principalComponents = pca.fit_transform(data_corr)\n",
    "    principalDf = pd.DataFrame(data = principalComponents, columns = ['PC1', 'PC2'])\n",
    "\n",
    "    principalDf[target] = target_corr\n",
    "    principalDf[target_abs] = np.abs(target_corr)\n",
    "    principalDf['Features'] = features\n",
    "    \n",
    "    color_feature = target\n",
    "    \n",
    "    if abs_values:\n",
    "        color_feature = target\n",
    "\n",
    "    fig = px.scatter(principalDf, x=\"PC1\",\n",
    "                    y=\"PC2\", color=color_feature, hover_name=\"Features\", width=1000, height=800)\n",
    "\n",
    "    fig.add_annotation(text=f'Variance explained <br>PC1: {\"{:.0%}\".format(pca.explained_variance_ratio_[0])} <br>PC2: {\"{:.0%}\".format(pca.explained_variance_ratio_[1])}', \n",
    "                    align='left',\n",
    "                    showarrow=False,\n",
    "                    xref='paper',\n",
    "                    yref='paper',\n",
    "                    x=0.98,\n",
    "                    y=0.98,\n",
    "                    bordercolor='black',\n",
    "                    borderwidth=1)\n",
    "\n",
    "    fig.show()"
   ]
  },
  {
   "cell_type": "code",
   "execution_count": null,
   "metadata": {
    "trusted": true
   },
   "outputs": [],
   "source": [
    "multi_model = feyn.Model.load(\"../input/brca-multiomics-tcga/model1_200its_mc7.model\")"
   ]
  },
  {
   "cell_type": "code",
   "execution_count": null,
   "metadata": {
    "trusted": true
   },
   "outputs": [],
   "source": [
    "multi_model.plot(train, test)"
   ]
  },
  {
   "cell_type": "markdown",
   "metadata": {},
   "source": [
    "Nice AUC! Interestingly, this model includes three different data types: Gene expression (rs), copy numbers (cn) and mutations (mu).\n",
    "We didn't even have to do anything special to the data, the QLattice figured out the correct normalisations itself!"
   ]
  },
  {
   "cell_type": "markdown",
   "metadata": {},
   "source": [
    "### Looking at people without TNXB mutations\n",
    "In people **without** TNXB mutations both high APOB and KRT23 gene expression are associated with death."
   ]
  },
  {
   "cell_type": "code",
   "execution_count": null,
   "metadata": {
    "trusted": true
   },
   "outputs": [],
   "source": [
    "multi_model.plot_response_2d(df, fixed = {\"mu_TNXB\" : 0, \"cn_ANKRD30B\" : -1})"
   ]
  },
  {
   "cell_type": "markdown",
   "metadata": {},
   "source": [
    "### Looking at TNXB mutation carriers\n",
    "In people **with** a TNXB mutation only high APOB is required for a case to be fatal."
   ]
  },
  {
   "cell_type": "code",
   "execution_count": null,
   "metadata": {
    "trusted": true
   },
   "outputs": [],
   "source": [
    "multi_model.plot_response_2d(df, fixed = {\"mu_TNXB\" : 1, \"cn_ANKRD30B\" : -1})"
   ]
  },
  {
   "cell_type": "markdown",
   "metadata": {},
   "source": [
    "The QLattice identified a **genetic switch**, i.e., a mutation in a gene (TNXB) that seems to drive cancer severity. In the top figure, we show the decision boundary for non-TNXB mutation carriers: Here, individuals with high APOB and KRT23 gene-expression seem to be at risk of dying.\n",
    "In the bottom figure, we show the predictions for TNXB-mutation carriers. Here, high levels of APOB are predicted to be detrimental, no matter the levels of KRT23.\n"
   ]
  },
  {
   "cell_type": "markdown",
   "metadata": {
    "execution": {
     "iopub.execute_input": "2021-07-09T14:17:07.342683Z",
     "iopub.status.busy": "2021-07-09T14:17:07.342271Z",
     "iopub.status.idle": "2021-07-09T14:17:07.346754Z",
     "shell.execute_reply": "2021-07-09T14:17:07.345751Z",
     "shell.execute_reply.started": "2021-07-09T14:17:07.342649Z"
    }
   },
   "source": [
    "## Conclusion"
   ]
  },
  {
   "cell_type": "markdown",
   "metadata": {},
   "source": [
    "The QLattice seamlessly provides insights into complex datasets and outperforms traditional machine-learning methods. Find a related blog post here https://www.abzu.ai/articles/multi-omics-analysis-made-easy-a-breast-cancer-example.\n",
    "Our latest biomarker preprint can be found here https://www.biorxiv.org/content/10.1101/2022.01.14.475226v2."
   ]
  }
 ],
 "metadata": {
  "kaggle": {
   "accelerator": "none",
   "dataSources": [
    {
     "datasetId": 1441802,
     "sourceId": 3188074,
     "sourceType": "datasetVersion"
    }
   ],
   "dockerImageVersionId": 30096,
   "isGpuEnabled": false,
   "isInternetEnabled": false,
   "language": "python",
   "sourceType": "notebook"
  },
  "kernelspec": {
   "display_name": "venv",
   "language": "python",
   "name": "python3"
  },
  "language_info": {
   "codemirror_mode": {
    "name": "ipython",
    "version": 3
   },
   "file_extension": ".py",
   "mimetype": "text/x-python",
   "name": "python",
   "nbconvert_exporter": "python",
   "pygments_lexer": "ipython3",
   "version": "3.12.1"
  }
 },
 "nbformat": 4,
 "nbformat_minor": 4
}
